{
 "cells": [
  {
   "cell_type": "code",
   "execution_count": 19,
   "id": "ba29629f-85ea-4ea5-b324-bf160f26a864",
   "metadata": {},
   "outputs": [
    {
     "name": "stdout",
     "output_type": "stream",
     "text": [
      "Coviariance : [[ 2.5 12.5]\n",
      " [12.5 62.5]]\n",
      "Correlation : [[1. 1.]\n",
      " [1. 1.]]\n"
     ]
    }
   ],
   "source": [
    "# COVARIANCE AND CORRELATION\n",
    "\n",
    "import numpy as np\n",
    "import pandas as pd\n",
    "import seaborn as sns\n",
    "\n",
    "x= [7,8,9,10,11]\n",
    "y=[5,10,15,20,25]\n",
    "\n",
    "cova= np.cov(x,y)  #covariance\n",
    "print (\"Coviariance :\", cova)\n",
    "\n",
    "correl=np.corrcoef(x,y)  #correlation\n",
    "print(\"Correlation :\", correl)"
   ]
  },
  {
   "cell_type": "code",
   "execution_count": 2,
   "id": "7e109d9c-2bc8-4766-9bbb-dc05f26c0da0",
   "metadata": {},
   "outputs": [
    {
     "data": {
      "text/html": [
       "<div>\n",
       "<style scoped>\n",
       "    .dataframe tbody tr th:only-of-type {\n",
       "        vertical-align: middle;\n",
       "    }\n",
       "\n",
       "    .dataframe tbody tr th {\n",
       "        vertical-align: top;\n",
       "    }\n",
       "\n",
       "    .dataframe thead th {\n",
       "        text-align: right;\n",
       "    }\n",
       "</style>\n",
       "<table border=\"1\" class=\"dataframe\">\n",
       "  <thead>\n",
       "    <tr style=\"text-align: right;\">\n",
       "      <th></th>\n",
       "      <th>Year</th>\n",
       "      <th>Country</th>\n",
       "      <th>Spending_USD</th>\n",
       "      <th>Life_Expectancy</th>\n",
       "    </tr>\n",
       "  </thead>\n",
       "  <tbody>\n",
       "    <tr>\n",
       "      <th>0</th>\n",
       "      <td>1970</td>\n",
       "      <td>Germany</td>\n",
       "      <td>252.311</td>\n",
       "      <td>70.6</td>\n",
       "    </tr>\n",
       "    <tr>\n",
       "      <th>1</th>\n",
       "      <td>1970</td>\n",
       "      <td>France</td>\n",
       "      <td>192.143</td>\n",
       "      <td>72.2</td>\n",
       "    </tr>\n",
       "    <tr>\n",
       "      <th>2</th>\n",
       "      <td>1970</td>\n",
       "      <td>Great Britain</td>\n",
       "      <td>123.993</td>\n",
       "      <td>71.9</td>\n",
       "    </tr>\n",
       "    <tr>\n",
       "      <th>3</th>\n",
       "      <td>1970</td>\n",
       "      <td>Japan</td>\n",
       "      <td>150.437</td>\n",
       "      <td>72.0</td>\n",
       "    </tr>\n",
       "    <tr>\n",
       "      <th>4</th>\n",
       "      <td>1970</td>\n",
       "      <td>USA</td>\n",
       "      <td>326.961</td>\n",
       "      <td>70.9</td>\n",
       "    </tr>\n",
       "  </tbody>\n",
       "</table>\n",
       "</div>"
      ],
      "text/plain": [
       "   Year        Country  Spending_USD  Life_Expectancy\n",
       "0  1970        Germany       252.311             70.6\n",
       "1  1970         France       192.143             72.2\n",
       "2  1970  Great Britain       123.993             71.9\n",
       "3  1970          Japan       150.437             72.0\n",
       "4  1970            USA       326.961             70.9"
      ]
     },
     "execution_count": 2,
     "metadata": {},
     "output_type": "execute_result"
    }
   ],
   "source": [
    "#  EXAMPLE TWO with seaborn\n",
    "\n",
    "df= sns.load_dataset('healthexp')\n",
    "df.head()"
   ]
  },
  {
   "cell_type": "code",
   "execution_count": 14,
   "id": "a8771e78-da3f-45c1-ac81-8e8169bb2d39",
   "metadata": {},
   "outputs": [
    {
     "name": "stdout",
     "output_type": "stream",
     "text": [
      "Covariance of the data set between year and spending usd [[2.01098848e+02 2.57188274e+04]\n",
      " [2.57188274e+04 4.81776066e+06]]\n",
      "Covariance of the data set between year and spending usd [[201.09884762  41.91545413]\n",
      " [ 41.91545413  10.7339023 ]]\n",
      "Covariance of the data set between year and spending usd [[1.07339023e+01 4.16680091e+03]\n",
      " [4.16680091e+03 4.81776066e+06]]\n"
     ]
    }
   ],
   "source": [
    "#covariance\n",
    "\n",
    "yr= df['Year']\n",
    "sp= df['Spending_USD']\n",
    "lf= df['Life_Expectancy']\n",
    "cov1= np.cov(yr, sp)\n",
    "cov2= np.cov(yr, lf)\n",
    "cov3= np.cov(lf, sp)\n",
    "print(\"Covariance of the data set between year and spending usd\", cov1)\n",
    "print(\"Covariance of the data set between year and spending usd\", cov2)\n",
    "print(\"Covariance of the data set between year and spending usd\", cov3)"
   ]
  },
  {
   "cell_type": "code",
   "execution_count": 16,
   "id": "f5bc47b3-1416-47d7-a653-d75fb4bdc204",
   "metadata": {},
   "outputs": [
    {
     "name": "stdout",
     "output_type": "stream",
     "text": [
      "Correlation of the data set between year and spending usd [[1.         0.82627338]\n",
      " [0.82627338 1.        ]]\n",
      "Correlation of the data set between year and spending usd [[1.         0.90217454]\n",
      " [0.90217454 1.        ]]\n",
      "Correlation of the data set between year and spending usd [[1.         0.57943046]\n",
      " [0.57943046 1.        ]]\n"
     ]
    }
   ],
   "source": [
    "# Correlation\n",
    "\n",
    "correl1=np.corrcoef(yr, sp)\n",
    "correl2=np.corrcoef(yr, lf)\n",
    "correl3=np.corrcoef(lf, sp)\n",
    "print(\"Correlation of the data set between year and spending usd\", correl1)\n",
    "print(\"Correlation of the data set between year and spending usd\", correl2)\n",
    "print(\"Correlation of the data set between year and spending usd\", correl3)\n"
   ]
  },
  {
   "cell_type": "code",
   "execution_count": null,
   "id": "19b40984-a5c0-4d25-9ab5-b8ba89b1cca8",
   "metadata": {},
   "outputs": [],
   "source": []
  }
 ],
 "metadata": {
  "kernelspec": {
   "display_name": "Python 3 (ipykernel)",
   "language": "python",
   "name": "python3"
  },
  "language_info": {
   "codemirror_mode": {
    "name": "ipython",
    "version": 3
   },
   "file_extension": ".py",
   "mimetype": "text/x-python",
   "name": "python",
   "nbconvert_exporter": "python",
   "pygments_lexer": "ipython3",
   "version": "3.11.7"
  }
 },
 "nbformat": 4,
 "nbformat_minor": 5
}
