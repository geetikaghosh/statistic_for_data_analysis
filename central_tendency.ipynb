{
 "cells": [
  {
   "cell_type": "code",
   "execution_count": 4,
   "id": "d6fdb606-97be-4e54-b72e-3462d203fae8",
   "metadata": {},
   "outputs": [
    {
     "name": "stdout",
     "output_type": "stream",
     "text": [
      "Mean : 4.764705882352941\n",
      "Mode: 1\n",
      "Median: 5.0\n"
     ]
    }
   ],
   "source": [
    "#CENTRAL TENDENCY \n",
    "\n",
    "\n",
    "import numpy as np\n",
    "from scipy import stats\n",
    "\n",
    "sample_data= [1,2,3,4,5,6,7,8,9,8,7,6,5,4,3,2,1]\n",
    "\n",
    "#calculate mean\n",
    "mean=np.mean(sample_data)\n",
    "print(\"Mean :\", mean)\n",
    "\n",
    "#calculate mode\n",
    "mode= stats.mode(sample_data)\n",
    "print(\"Mode:\", mode.mode)\n",
    "\n",
    "# calculate median\n",
    "med= np.median(sample_data)\n",
    "print(\"Median:\", med)"
   ]
  },
  {
   "cell_type": "code",
   "execution_count": null,
   "id": "44c99894-1229-440e-972d-cdb18a8abe3a",
   "metadata": {},
   "outputs": [],
   "source": []
  }
 ],
 "metadata": {
  "kernelspec": {
   "display_name": "Python 3 (ipykernel)",
   "language": "python",
   "name": "python3"
  },
  "language_info": {
   "codemirror_mode": {
    "name": "ipython",
    "version": 3
   },
   "file_extension": ".py",
   "mimetype": "text/x-python",
   "name": "python",
   "nbconvert_exporter": "python",
   "pygments_lexer": "ipython3",
   "version": "3.11.7"
  }
 },
 "nbformat": 4,
 "nbformat_minor": 5
}
