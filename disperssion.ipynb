{
 "cells": [
  {
   "cell_type": "code",
   "execution_count": 1,
   "id": "92bc65eb-1611-42c1-b20b-1a35d3462622",
   "metadata": {},
   "outputs": [
    {
     "name": "stdout",
     "output_type": "stream",
     "text": [
      "Range:  8\n",
      "Variance: 7.0588235294117645\n",
      "Standard Deviation: 2.6568446566202857\n"
     ]
    }
   ],
   "source": [
    "# DISPERSSION IN PYTHON : it describes the spread of the data points in a dataset\n",
    "\n",
    "import numpy as np\n",
    "\n",
    "data=[1,1,2,2,3,3,4,4,5,5,6,6,7,7,8,8,9,9]\n",
    "\n",
    "#calculate range using ptp peak-to-peak method that gives range\n",
    "data_range= np.ptp(data)\n",
    "print(\"Range: \", data_range)\n",
    "\n",
    "#calculate variance\n",
    "variance = np.var(data, ddof=1)  # ddof=1 for sample variance\n",
    "print(\"Variance:\", variance)\n",
    "\n",
    "# Calculate standard deviation\n",
    "std_deviation = np.std(data, ddof=1)  # ddof=1 for sample standard deviation\n",
    "print(\"Standard Deviation:\", std_deviation)"
   ]
  },
  {
   "cell_type": "code",
   "execution_count": null,
   "id": "17dacdb9-a9c8-4af1-9975-741082d8cb82",
   "metadata": {},
   "outputs": [],
   "source": []
  }
 ],
 "metadata": {
  "kernelspec": {
   "display_name": "Python 3 (ipykernel)",
   "language": "python",
   "name": "python3"
  },
  "language_info": {
   "codemirror_mode": {
    "name": "ipython",
    "version": 3
   },
   "file_extension": ".py",
   "mimetype": "text/x-python",
   "name": "python",
   "nbconvert_exporter": "python",
   "pygments_lexer": "ipython3",
   "version": "3.11.7"
  }
 },
 "nbformat": 4,
 "nbformat_minor": 5
}
