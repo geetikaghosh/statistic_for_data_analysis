{
 "cells": [
  {
   "cell_type": "code",
   "execution_count": 2,
   "id": "d4e7522a-7437-47a7-9921-f0fcb425033c",
   "metadata": {},
   "outputs": [
    {
     "name": "stdout",
     "output_type": "stream",
     "text": [
      "Binomial Random Variables : [4 3 3 3 5 7 6 5 5 2 4 4 6 7 8 6 6 5 8 3 4 6 4 6 4 3 5 7 5 4 9 3 4 6 6 6 5\n",
      " 4 5 9 6 8 6 3 6 6 3 4 4 5 7 6 4 4 8 5 5 6 4 2 8 8 4 5 2 5 5 5 4 5 5 7 7 6\n",
      " 5 4 6 6 4 4 5 6 5 5 3 7 6 5 8 6 4 6 7 3 6 7 5 2 4 3]\n"
     ]
    }
   ],
   "source": [
    "# RANDOM VAIRIABLES\n",
    "\n",
    "# 1. Binomial Distribution : (Discrete Random Variable) BRV\n",
    "\n",
    "import numpy as np\n",
    "n=10   # number of trials\n",
    "p= 0.5 # probability of success\n",
    "\n",
    "#generate binomial random variables with 100 sample\n",
    "binomial_rv= np.random.binomial(n,p, 100)\n",
    "print(\"Binomial Random Variables :\", binomial_rv)\n"
   ]
  },
  {
   "cell_type": "code",
   "execution_count": 4,
   "id": "a4ef4a6a-4738-412f-b947-af8ad7b473ab",
   "metadata": {},
   "outputs": [
    {
     "name": "stdout",
     "output_type": "stream",
     "text": [
      "Normal Random Variables : [-1.26093689 -1.28081798 -1.09497729  1.05875716  0.43642805  0.36076315\n",
      " -0.57481215  1.54965241 -1.5599064   0.9847215 ]\n"
     ]
    }
   ],
   "source": [
    "#Continous Random Variable with 10 samples\n",
    "mean= 0\n",
    "sigma= 1 #standard deviation\n",
    "\n",
    "normal_distribution= np.random.normal(mean, sigma, 10)\n",
    "print(\"Normal Random Variables :\", normal_distribution)"
   ]
  },
  {
   "cell_type": "code",
   "execution_count": 5,
   "id": "4c7f7600-68d7-4812-8773-1a699a47cd5f",
   "metadata": {},
   "outputs": [
    {
     "name": "stdout",
     "output_type": "stream",
     "text": [
      "Exponential Random Variable [0.83446397 0.32608151 0.29648882 0.56268789 0.22224231 1.00981423\n",
      " 1.05772644 0.20547355 0.39476645 0.84837624]\n"
     ]
    }
   ],
   "source": [
    "# Exponential Random Variable \n",
    "\n",
    "lambda_par= 1\n",
    "exponential_rv= np.random.exponential(1/lambda_par, 10)\n",
    "print(\"Exponential Random Variable\", exponential_rv)"
   ]
  },
  {
   "cell_type": "code",
   "execution_count": null,
   "id": "59e28e33-81bb-4ebd-bf7f-bdb938544ab7",
   "metadata": {},
   "outputs": [],
   "source": []
  }
 ],
 "metadata": {
  "kernelspec": {
   "display_name": "Python 3 (ipykernel)",
   "language": "python",
   "name": "python3"
  },
  "language_info": {
   "codemirror_mode": {
    "name": "ipython",
    "version": 3
   },
   "file_extension": ".py",
   "mimetype": "text/x-python",
   "name": "python",
   "nbconvert_exporter": "python",
   "pygments_lexer": "ipython3",
   "version": "3.11.7"
  }
 },
 "nbformat": 4,
 "nbformat_minor": 5
}
